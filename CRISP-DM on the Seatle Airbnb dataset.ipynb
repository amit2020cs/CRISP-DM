{
 "cells": [
  {
   "cell_type": "markdown",
   "metadata": {},
   "source": [
    "\n",
    "\n",
    "#### CRISP-DM (Cross-Industry Standard Process for Data Mining)\n",
    "- Business Understanding\n",
    "- Data Understanding\n",
    "- Data Preparation\n",
    "- Modeling\n",
    "- Evaluation\n",
    "- Deployment\n"
   ]
  },
  {
   "cell_type": "markdown",
   "metadata": {},
   "source": [
    "## Business Understanding\n",
    "\n",
    "Airbnb is a platform of accommodation which match the needs of staying and of lending.  \n",
    "Their main source of income is **fee for host**. Basically, as the number of transactions between the host and the guest increases, their profit also increases.  \n",
    "So, It is important to their business and I expect it to be one of their KPIs.\n",
    "\n",
    "\n",
    "<img src=\"https://bmtoolbox.net/wp-content/uploads/2016/06/airbnb.jpg\" width=700>\n",
    "\n",
    "ref: https://bmtoolbox.net/stories/airbnb/\n",
    "\n",
    "#### What can we do to increase the transactions?\n",
    "I considered three below questions to explore its way.\n",
    "\n",
    "* **How long is the period available for lending by rooms?**  \n",
    "* **Is there a busy season?**  \n",
    "* **Are there any trends of popular rooms?**  "
   ]
  },
  {
   "cell_type": "markdown",
   "metadata": {},
   "source": [
    "## Data Understanding\n",
    "\n",
    "We have three data.\n",
    "\n",
    "* `listings`: including full descriptions and average review score\n",
    "* `calendar`: including listing id and the price and availability for that day\n",
    "* `reviews`: including unique id for each reviewer and detailed comments\n",
    "\n",
    "In this part, I'll make some visualization and aggregation to understand the charactoristics of the data."
   ]
  },
  {
   "cell_type": "code",
   "execution_count": 1,
   "metadata": {
    "ExecuteTime": {
     "end_time": "2019-03-31T03:14:52.474116Z",
     "start_time": "2019-03-31T03:14:51.500265Z"
    },
    "_kg_hide-input": true
   },
   "outputs": [],
   "source": [
    "# import necessary package\n",
    "import numpy as np\n",
    "import pandas as pd\n",
    "import matplotlib.pyplot as plt\n",
    "import seaborn as sns\n",
    "from sklearn.linear_model import LinearRegression\n",
    "from sklearn.model_selection import cross_val_score\n",
    "\n",
    "%matplotlib inline\n",
    "import warnings\n",
    "warnings.filterwarnings('ignore')"
   ]
  },
  {
   "cell_type": "code",
   "execution_count": 2,
   "metadata": {
    "ExecuteTime": {
     "end_time": "2019-03-31T03:14:53.612313Z",
     "start_time": "2019-03-31T03:14:52.476466Z"
    }
   },
   "outputs": [],
   "source": [
    "# load data\n",
    "seattle_calendar = pd.read_csv('calendar.csv')\n",
    "seattle_listing = pd.read_csv('listings.csv')\n",
    "seattle_review = pd.read_csv('reviews.csv')"
   ]
  },
  {
   "cell_type": "markdown",
   "metadata": {},
   "source": [
    "### calendar"
   ]
  },
  {
   "cell_type": "markdown",
   "metadata": {},
   "source": [
    "Let's look first 5 row of the data and column information."
   ]
  },
  {
   "cell_type": "code",
   "execution_count": 3,
   "metadata": {
    "ExecuteTime": {
     "end_time": "2019-03-31T03:14:53.630949Z",
     "start_time": "2019-03-31T03:14:53.614504Z"
    }
   },
   "outputs": [
    {
     "data": {
      "text/html": [
       "<div>\n",
       "<style scoped>\n",
       "    .dataframe tbody tr th:only-of-type {\n",
       "        vertical-align: middle;\n",
       "    }\n",
       "\n",
       "    .dataframe tbody tr th {\n",
       "        vertical-align: top;\n",
       "    }\n",
       "\n",
       "    .dataframe thead th {\n",
       "        text-align: right;\n",
       "    }\n",
       "</style>\n",
       "<table border=\"1\" class=\"dataframe\">\n",
       "  <thead>\n",
       "    <tr style=\"text-align: right;\">\n",
       "      <th></th>\n",
       "      <th>listing_id</th>\n",
       "      <th>date</th>\n",
       "      <th>available</th>\n",
       "      <th>price</th>\n",
       "    </tr>\n",
       "  </thead>\n",
       "  <tbody>\n",
       "    <tr>\n",
       "      <th>0</th>\n",
       "      <td>241032</td>\n",
       "      <td>2016-01-04</td>\n",
       "      <td>t</td>\n",
       "      <td>$85.00</td>\n",
       "    </tr>\n",
       "    <tr>\n",
       "      <th>1</th>\n",
       "      <td>241032</td>\n",
       "      <td>2016-01-05</td>\n",
       "      <td>t</td>\n",
       "      <td>$85.00</td>\n",
       "    </tr>\n",
       "    <tr>\n",
       "      <th>2</th>\n",
       "      <td>241032</td>\n",
       "      <td>2016-01-06</td>\n",
       "      <td>f</td>\n",
       "      <td>NaN</td>\n",
       "    </tr>\n",
       "    <tr>\n",
       "      <th>3</th>\n",
       "      <td>241032</td>\n",
       "      <td>2016-01-07</td>\n",
       "      <td>f</td>\n",
       "      <td>NaN</td>\n",
       "    </tr>\n",
       "    <tr>\n",
       "      <th>4</th>\n",
       "      <td>241032</td>\n",
       "      <td>2016-01-08</td>\n",
       "      <td>f</td>\n",
       "      <td>NaN</td>\n",
       "    </tr>\n",
       "  </tbody>\n",
       "</table>\n",
       "</div>"
      ],
      "text/plain": [
       "   listing_id        date available   price\n",
       "0      241032  2016-01-04         t  $85.00\n",
       "1      241032  2016-01-05         t  $85.00\n",
       "2      241032  2016-01-06         f     NaN\n",
       "3      241032  2016-01-07         f     NaN\n",
       "4      241032  2016-01-08         f     NaN"
      ]
     },
     "execution_count": 3,
     "metadata": {},
     "output_type": "execute_result"
    }
   ],
   "source": [
    "seattle_calendar.head()"
   ]
  },
  {
   "cell_type": "code",
   "execution_count": 4,
   "metadata": {
    "ExecuteTime": {
     "end_time": "2019-03-31T03:14:53.910415Z",
     "start_time": "2019-03-31T03:14:53.634706Z"
    }
   },
   "outputs": [
    {
     "name": "stdout",
     "output_type": "stream",
     "text": [
      "<class 'pandas.core.frame.DataFrame'>\n",
      "RangeIndex: 1393570 entries, 0 to 1393569\n",
      "Data columns (total 4 columns):\n",
      " #   Column      Non-Null Count    Dtype \n",
      "---  ------      --------------    ----- \n",
      " 0   listing_id  1393570 non-null  int64 \n",
      " 1   date        1393570 non-null  object\n",
      " 2   available   1393570 non-null  object\n",
      " 3   price       934542 non-null   object\n",
      "dtypes: int64(1), object(3)\n",
      "memory usage: 42.5+ MB\n"
     ]
    }
   ],
   "source": [
    "seattle_calendar.info()"
   ]
  },
  {
   "cell_type": "markdown",
   "metadata": {},
   "source": [
    "There are 4 columns.  \n",
    "Here, I found some charactoristics of the data.\n",
    "\n",
    "* Not only available days are stored in data, it seems to be stored not available days.\n",
    "* If the `available` values are `f`, the `price` values seems to be `NaN`. \n",
    "* The `price` values are stored as object, not integer. This is caused the value stored like `$xx.xx`, and it is necessary to transform this column."
   ]
  },
  {
   "cell_type": "markdown",
   "metadata": {},
   "source": [
    "In response to the result, now I have two question .\n",
    "\n",
    "1. If the available values are f, the price values seems to be NaN. But it is only a hypothesis, is it true all data?\n",
    "2. How many rows per each listing_id?\n",
    "\n",
    "Let's answer these questions with exploring data."
   ]
  },
  {
   "cell_type": "code",
   "execution_count": 5,
   "metadata": {
    "ExecuteTime": {
     "end_time": "2019-03-31T03:14:54.047932Z",
     "start_time": "2019-03-31T03:14:53.912331Z"
    },
    "_kg_hide-input": true
   },
   "outputs": [
    {
     "data": {
      "text/html": [
       "<div>\n",
       "<style scoped>\n",
       "    .dataframe tbody tr th:only-of-type {\n",
       "        vertical-align: middle;\n",
       "    }\n",
       "\n",
       "    .dataframe tbody tr th {\n",
       "        vertical-align: top;\n",
       "    }\n",
       "\n",
       "    .dataframe thead th {\n",
       "        text-align: right;\n",
       "    }\n",
       "</style>\n",
       "<table border=\"1\" class=\"dataframe\">\n",
       "  <thead>\n",
       "    <tr style=\"text-align: right;\">\n",
       "      <th></th>\n",
       "      <th>available</th>\n",
       "      <th>price_nonnull_count</th>\n",
       "    </tr>\n",
       "  </thead>\n",
       "  <tbody>\n",
       "    <tr>\n",
       "      <th>0</th>\n",
       "      <td>f</td>\n",
       "      <td>0</td>\n",
       "    </tr>\n",
       "    <tr>\n",
       "      <th>1</th>\n",
       "      <td>t</td>\n",
       "      <td>934542</td>\n",
       "    </tr>\n",
       "  </tbody>\n",
       "</table>\n",
       "</div>"
      ],
      "text/plain": [
       "  available  price_nonnull_count\n",
       "0         f                    0\n",
       "1         t               934542"
      ]
     },
     "execution_count": 5,
     "metadata": {},
     "output_type": "execute_result"
    }
   ],
   "source": [
    "#  If the available values are f, the price values seems to be NaN. But it is only a hypothesis, is it true all data?\n",
    "calendar_q1_df = seattle_calendar.groupby('available')['price'].count().reset_index()\n",
    "calendar_q1_df.columns = ['available', 'price_nonnull_count']\n",
    "calendar_q1_df"
   ]
  },
  {
   "cell_type": "code",
   "execution_count": 6,
   "metadata": {
    "ExecuteTime": {
     "end_time": "2019-03-31T03:14:54.15495Z",
     "start_time": "2019-03-31T03:14:54.050343Z"
    },
    "_kg_hide-input": true
   },
   "outputs": [
    {
     "data": {
      "text/plain": [
       "365    3818\n",
       "Name: date, dtype: int64"
      ]
     },
     "execution_count": 6,
     "metadata": {},
     "output_type": "execute_result"
    }
   ],
   "source": [
    "#  How many rows per each listing_id?\n",
    "calendar_q2_df = seattle_calendar.groupby('listing_id')['date'].count().reset_index()\n",
    "calendar_q2_df['date'].value_counts()"
   ]
  },
  {
   "cell_type": "markdown",
   "metadata": {},
   "source": [
    "Above, I can answer my question. The answer is\n",
    "\n",
    "***If the available values are f, the price values seems to be NaN. But it is only a hypothesis, is it true all data?***  \n",
    "-> true !!\n",
    "\n",
    "***How many rows per each listing_id?***  \n",
    "-> 365 days record. This is equal a year."
   ]
  },
  {
   "cell_type": "markdown",
   "metadata": {},
   "source": [
    "Now, I almost understood the features of the data.  \n",
    "Finally, I'll research is there any trend of the listings price."
   ]
  },
  {
   "cell_type": "code",
   "execution_count": 7,
   "metadata": {
    "ExecuteTime": {
     "end_time": "2019-03-31T03:14:55.614551Z",
     "start_time": "2019-03-31T03:14:54.157609Z"
    },
    "_kg_hide-input": true
   },
   "outputs": [
    {
     "data": {
      "image/png": "[encoded data removed]",
      "text/plain": [
       "<Figure size 1080x576 with 1 Axes>"
      ]
     },
     "metadata": {
      "needs_background": "light"
     },
     "output_type": "display_data"
    }
   ],
   "source": [
    "# process data\n",
    "calendar_q3_df = seattle_calendar.copy(deep=True)\n",
    "calendar_q3_df.dropna(inplace=True)\n",
    "calendar_q3_df['date'] = pd.to_datetime(calendar_q3_df['date'])\n",
    "calendar_q3_df['price'] = calendar_q3_df['price'].map(lambda x: float(x[1:].replace(\",\", \"\")))\n",
    "\n",
    "# apply aggregation\n",
    "calendar_q3_df = calendar_q3_df.groupby('date')['price'].mean().reset_index()\n",
    "\n",
    "# plot avg listings prices over time.\n",
    "plt.figure(figsize=(15, 8))\n",
    "plt.plot(calendar_q3_df.date, calendar_q3_df.price, color='r', marker='^', linewidth=0.9)\n",
    "plt.title(\"Average listing price by date\")\n",
    "plt.xlabel('date')\n",
    "plt.ylabel('average listing price')\n",
    "plt.grid()"
   ]
  },
  {
   "cell_type": "markdown",
   "metadata": {},
   "source": [
    "This is interesting.  \n",
    "There are two trend of the data.\n",
    "\n",
    "1. The average price rise from 2016/1 to 2016/7, and reach peak for three months, and getting lower. And the average proce of 2017/1 is higher than 1 years ago.\n",
    "2. There is periodic small peak."
   ]
  },
  {
   "cell_type": "markdown",
   "metadata": {},
   "source": [
    "The first trend can be split into two foctors. One is seasonal factor, and the other is overall factor.  \n",
    "The second trend looks like a weekly trend, so let's close look at!!"
   ]
  },
  {
   "cell_type": "code",
   "execution_count": 8,
   "metadata": {
    "ExecuteTime": {
     "end_time": "2019-03-31T03:14:55.93049Z",
     "start_time": "2019-03-31T03:14:55.617083Z"
    },
    "_kg_hide-input": true
   },
   "outputs": [
    {
     "data": {
      "image/png": "[encoded data removed]",
      "text/plain": [
       "<Figure size 1080x576 with 1 Axes>"
      ]
     },
     "metadata": {
      "needs_background": "light"
     },
     "output_type": "display_data"
    }
   ],
   "source": [
    "# plot more narrow range\n",
    "plt.figure(figsize=(15, 8))\n",
    "plt.plot(calendar_q3_df.date.values[:15], calendar_q3_df.price.values[:15], color='r', marker='^', linewidth=1.5)\n",
    "plt.title(\"Average listing price by date\")\n",
    "plt.xlabel('date')\n",
    "plt.ylabel('average listing price')\n",
    "plt.grid()"
   ]
  },
  {
   "cell_type": "markdown",
   "metadata": {},
   "source": [
    "It looks like a weekly trend as I thought.  \n",
    "Then, which does weekday have high price? "
   ]
  },
  {
   "cell_type": "markdown",
   "metadata": {},
   "source": [
    "#### Summary\n",
    "\n",
    "* Each listings has `365` days record in this data.\n",
    "* If `available` values are `f`, the `price` values are `NaN`."
   ]
  },
  {
   "cell_type": "markdown",
   "metadata": {},
   "source": [
    "### listings"
   ]
  },
  {
   "cell_type": "markdown",
   "metadata": {},
   "source": [
    "Let's begin with looking at first 5 row of the data and columns information."
   ]
  },
  {
   "cell_type": "code",
   "execution_count": 9,
   "metadata": {
    "ExecuteTime": {
     "end_time": "2019-03-31T03:14:56.331232Z",
     "start_time": "2019-03-31T03:14:56.306991Z"
    }
   },
   "outputs": [
    {
     "data": {
      "text/html": [
       "<div>\n",
       "<style scoped>\n",
       "    .dataframe tbody tr th:only-of-type {\n",
       "        vertical-align: middle;\n",
       "    }\n",
       "\n",
       "    .dataframe tbody tr th {\n",
       "        vertical-align: top;\n",
       "    }\n",
       "\n",
       "    .dataframe thead th {\n",
       "        text-align: right;\n",
       "    }\n",
       "</style>\n",
       "<table border=\"1\" class=\"dataframe\">\n",
       "  <thead>\n",
       "    <tr style=\"text-align: right;\">\n",
       "      <th></th>\n",
       "      <th>id</th>\n",
       "      <th>listing_url</th>\n",
       "      <th>scrape_id</th>\n",
       "      <th>last_scraped</th>\n",
       "      <th>name</th>\n",
       "      <th>summary</th>\n",
       "      <th>space</th>\n",
       "      <th>description</th>\n",
       "      <th>experiences_offered</th>\n",
       "      <th>neighborhood_overview</th>\n",
       "      <th>...</th>\n",
       "      <th>review_scores_value</th>\n",
       "      <th>requires_license</th>\n",
       "      <th>license</th>\n",
       "      <th>jurisdiction_names</th>\n",
       "      <th>instant_bookable</th>\n",
       "      <th>cancellation_policy</th>\n",
       "      <th>require_guest_profile_picture</th>\n",
       "      <th>require_guest_phone_verification</th>\n",
       "      <th>calculated_host_listings_count</th>\n",
       "      <th>reviews_per_month</th>\n",
       "    </tr>\n",
       "  </thead>\n",
       "  <tbody>\n",
       "    <tr>\n",
       "      <th>0</th>\n",
       "      <td>241032</td>\n",
       "      <td>https://www.airbnb.com/rooms/241032</td>\n",
       "      <td>20160104002432</td>\n",
       "      <td>2016-01-04</td>\n",
       "      <td>Stylish Queen Anne Apartment</td>\n",
       "      <td>NaN</td>\n",
       "      <td>Make your self at home in this charming one-be...</td>\n",
       "      <td>Make your self at home in this charming one-be...</td>\n",
       "      <td>none</td>\n",
       "      <td>NaN</td>\n",
       "      <td>...</td>\n",
       "      <td>10.0</td>\n",
       "      <td>f</td>\n",
       "      <td>NaN</td>\n",
       "      <td>WASHINGTON</td>\n",
       "      <td>f</td>\n",
       "      <td>moderate</td>\n",
       "      <td>f</td>\n",
       "      <td>f</td>\n",
       "      <td>2</td>\n",
       "      <td>4.07</td>\n",
       "    </tr>\n",
       "    <tr>\n",
       "      <th>1</th>\n",
       "      <td>953595</td>\n",
       "      <td>https://www.airbnb.com/rooms/953595</td>\n",
       "      <td>20160104002432</td>\n",
       "      <td>2016-01-04</td>\n",
       "      <td>Bright &amp; Airy Queen Anne Apartment</td>\n",
       "      <td>Chemically sensitive? We've removed the irrita...</td>\n",
       "      <td>Beautiful, hypoallergenic apartment in an extr...</td>\n",
       "      <td>Chemically sensitive? We've removed the irrita...</td>\n",
       "      <td>none</td>\n",
       "      <td>Queen Anne is a wonderful, truly functional vi...</td>\n",
       "      <td>...</td>\n",
       "      <td>10.0</td>\n",
       "      <td>f</td>\n",
       "      <td>NaN</td>\n",
       "      <td>WASHINGTON</td>\n",
       "      <td>f</td>\n",
       "      <td>strict</td>\n",
       "      <td>t</td>\n",
       "      <td>t</td>\n",
       "      <td>6</td>\n",
       "      <td>1.48</td>\n",
       "    </tr>\n",
       "    <tr>\n",
       "      <th>2</th>\n",
       "      <td>3308979</td>\n",
       "      <td>https://www.airbnb.com/rooms/3308979</td>\n",
       "      <td>20160104002432</td>\n",
       "      <td>2016-01-04</td>\n",
       "      <td>New Modern House-Amazing water view</td>\n",
       "      <td>New modern house built in 2013.  Spectacular s...</td>\n",
       "      <td>Our house is modern, light and fresh with a wa...</td>\n",
       "      <td>New modern house built in 2013.  Spectacular s...</td>\n",
       "      <td>none</td>\n",
       "      <td>Upper Queen Anne is a charming neighborhood fu...</td>\n",
       "      <td>...</td>\n",
       "      <td>10.0</td>\n",
       "      <td>f</td>\n",
       "      <td>NaN</td>\n",
       "      <td>WASHINGTON</td>\n",
       "      <td>f</td>\n",
       "      <td>strict</td>\n",
       "      <td>f</td>\n",
       "      <td>f</td>\n",
       "      <td>2</td>\n",
       "      <td>1.15</td>\n",
       "    </tr>\n",
       "    <tr>\n",
       "      <th>3</th>\n",
       "      <td>7421966</td>\n",
       "      <td>https://www.airbnb.com/rooms/7421966</td>\n",
       "      <td>20160104002432</td>\n",
       "      <td>2016-01-04</td>\n",
       "      <td>Queen Anne Chateau</td>\n",
       "      <td>A charming apartment that sits atop Queen Anne...</td>\n",
       "      <td>NaN</td>\n",
       "      <td>A charming apartment that sits atop Queen Anne...</td>\n",
       "      <td>none</td>\n",
       "      <td>NaN</td>\n",
       "      <td>...</td>\n",
       "      <td>NaN</td>\n",
       "      <td>f</td>\n",
       "      <td>NaN</td>\n",
       "      <td>WASHINGTON</td>\n",
       "      <td>f</td>\n",
       "      <td>flexible</td>\n",
       "      <td>f</td>\n",
       "      <td>f</td>\n",
       "      <td>1</td>\n",
       "      <td>NaN</td>\n",
       "    </tr>\n",
       "    <tr>\n",
       "      <th>4</th>\n",
       "      <td>278830</td>\n",
       "      <td>https://www.airbnb.com/rooms/278830</td>\n",
       "      <td>20160104002432</td>\n",
       "      <td>2016-01-04</td>\n",
       "      <td>Charming craftsman 3 bdm house</td>\n",
       "      <td>Cozy family craftman house in beautiful neighb...</td>\n",
       "      <td>Cozy family craftman house in beautiful neighb...</td>\n",
       "      <td>Cozy family craftman house in beautiful neighb...</td>\n",
       "      <td>none</td>\n",
       "      <td>We are in the beautiful neighborhood of Queen ...</td>\n",
       "      <td>...</td>\n",
       "      <td>9.0</td>\n",
       "      <td>f</td>\n",
       "      <td>NaN</td>\n",
       "      <td>WASHINGTON</td>\n",
       "      <td>f</td>\n",
       "      <td>strict</td>\n",
       "      <td>f</td>\n",
       "      <td>f</td>\n",
       "      <td>1</td>\n",
       "      <td>0.89</td>\n",
       "    </tr>\n",
       "  </tbody>\n",
       "</table>\n",
       "<p>5 rows × 92 columns</p>\n",
       "</div>"
      ],
      "text/plain": [
       "        id                           listing_url       scrape_id last_scraped  \\\n",
       "0   241032   https://www.airbnb.com/rooms/241032  20160104002432   2016-01-04   \n",
       "1   953595   https://www.airbnb.com/rooms/953595  20160104002432   2016-01-04   \n",
       "2  3308979  https://www.airbnb.com/rooms/3308979  20160104002432   2016-01-04   \n",
       "3  7421966  https://www.airbnb.com/rooms/7421966  20160104002432   2016-01-04   \n",
       "4   278830   https://www.airbnb.com/rooms/278830  20160104002432   2016-01-04   \n",
       "\n",
       "                                  name  \\\n",
       "0         Stylish Queen Anne Apartment   \n",
       "1   Bright & Airy Queen Anne Apartment   \n",
       "2  New Modern House-Amazing water view   \n",
       "3                   Queen Anne Chateau   \n",
       "4       Charming craftsman 3 bdm house   \n",
       "\n",
       "                                             summary  \\\n",
       "0                                                NaN   \n",
       "1  Chemically sensitive? We've removed the irrita...   \n",
       "2  New modern house built in 2013.  Spectacular s...   \n",
       "3  A charming apartment that sits atop Queen Anne...   \n",
       "4  Cozy family craftman house in beautiful neighb...   \n",
       "\n",
       "                                               space  \\\n",
       "0  Make your self at home in this charming one-be...   \n",
       "1  Beautiful, hypoallergenic apartment in an extr...   \n",
       "2  Our house is modern, light and fresh with a wa...   \n",
       "3                                                NaN   \n",
       "4  Cozy family craftman house in beautiful neighb...   \n",
       "\n",
       "                                         description experiences_offered  \\\n",
       "0  Make your self at home in this charming one-be...                none   \n",
       "1  Chemically sensitive? We've removed the irrita...                none   \n",
       "2  New modern house built in 2013.  Spectacular s...                none   \n",
       "3  A charming apartment that sits atop Queen Anne...                none   \n",
       "4  Cozy family craftman house in beautiful neighb...                none   \n",
       "\n",
       "                               neighborhood_overview  ... review_scores_value  \\\n",
       "0                                                NaN  ...                10.0   \n",
       "1  Queen Anne is a wonderful, truly functional vi...  ...                10.0   \n",
       "2  Upper Queen Anne is a charming neighborhood fu...  ...                10.0   \n",
       "3                                                NaN  ...                 NaN   \n",
       "4  We are in the beautiful neighborhood of Queen ...  ...                 9.0   \n",
       "\n",
       "  requires_license license jurisdiction_names instant_bookable  \\\n",
       "0                f     NaN         WASHINGTON                f   \n",
       "1                f     NaN         WASHINGTON                f   \n",
       "2                f     NaN         WASHINGTON                f   \n",
       "3                f     NaN         WASHINGTON                f   \n",
       "4                f     NaN         WASHINGTON                f   \n",
       "\n",
       "  cancellation_policy  require_guest_profile_picture  \\\n",
       "0            moderate                              f   \n",
       "1              strict                              t   \n",
       "2              strict                              f   \n",
       "3            flexible                              f   \n",
       "4              strict                              f   \n",
       "\n",
       "  require_guest_phone_verification calculated_host_listings_count  \\\n",
       "0                                f                              2   \n",
       "1                                t                              6   \n",
       "2                                f                              2   \n",
       "3                                f                              1   \n",
       "4                                f                              1   \n",
       "\n",
       "  reviews_per_month  \n",
       "0              4.07  \n",
       "1              1.48  \n",
       "2              1.15  \n",
       "3               NaN  \n",
       "4              0.89  \n",
       "\n",
       "[5 rows x 92 columns]"
      ]
     },
     "execution_count": 9,
     "metadata": {},
     "output_type": "execute_result"
    }
   ],
   "source": [
    "seattle_listing.head()"
   ]
  },
  {
   "cell_type": "markdown",
   "metadata": {},
   "source": [
    "There are many columns, so I can't explore each columns here.  \n",
    "Here I'll look at some columns of my interest."
   ]
  },
  {
   "cell_type": "markdown",
   "metadata": {},
   "source": [
    "First, I'll investigate how many listings are in the data."
   ]
  },
  {
   "cell_type": "code",
   "execution_count": 10,
   "metadata": {
    "ExecuteTime": {
     "end_time": "2019-03-31T03:14:56.342723Z",
     "start_time": "2019-03-31T03:14:56.339214Z"
    }
   },
   "outputs": [
    {
     "name": "stdout",
     "output_type": "stream",
     "text": [
      "Num of listings:  3818\n",
      "Num of rows:  3818\n"
     ]
    }
   ],
   "source": [
    "print(\"Num of listings: \", seattle_listing.id.count())\n",
    "print(\"Num of rows: \", seattle_listing.shape[0])"
   ]
  },
  {
   "cell_type": "markdown",
   "metadata": {},
   "source": [
    "This shows the each rows represents unique listings."
   ]
  },
  {
   "cell_type": "markdown",
   "metadata": {},
   "source": [
    "#### review_scores_rating"
   ]
  },
  {
   "cell_type": "code",
   "execution_count": 11,
   "metadata": {
    "ExecuteTime": {
     "end_time": "2019-03-31T03:14:56.36233Z",
     "start_time": "2019-03-31T03:14:56.345794Z"
    }
   },
   "outputs": [
    {
     "data": {
      "text/html": [
       "<div>\n",
       "<style scoped>\n",
       "    .dataframe tbody tr th:only-of-type {\n",
       "        vertical-align: middle;\n",
       "    }\n",
       "\n",
       "    .dataframe tbody tr th {\n",
       "        vertical-align: top;\n",
       "    }\n",
       "\n",
       "    .dataframe thead th {\n",
       "        text-align: right;\n",
       "    }\n",
       "</style>\n",
       "<table border=\"1\" class=\"dataframe\">\n",
       "  <thead>\n",
       "    <tr style=\"text-align: right;\">\n",
       "      <th></th>\n",
       "      <th>index</th>\n",
       "      <th>review_scores_rating</th>\n",
       "    </tr>\n",
       "  </thead>\n",
       "  <tbody>\n",
       "    <tr>\n",
       "      <th>0</th>\n",
       "      <td>count</td>\n",
       "      <td>3171.000000</td>\n",
       "    </tr>\n",
       "    <tr>\n",
       "      <th>1</th>\n",
       "      <td>mean</td>\n",
       "      <td>94.539262</td>\n",
       "    </tr>\n",
       "    <tr>\n",
       "      <th>2</th>\n",
       "      <td>std</td>\n",
       "      <td>6.606083</td>\n",
       "    </tr>\n",
       "    <tr>\n",
       "      <th>3</th>\n",
       "      <td>min</td>\n",
       "      <td>20.000000</td>\n",
       "    </tr>\n",
       "    <tr>\n",
       "      <th>4</th>\n",
       "      <td>25%</td>\n",
       "      <td>93.000000</td>\n",
       "    </tr>\n",
       "    <tr>\n",
       "      <th>5</th>\n",
       "      <td>50%</td>\n",
       "      <td>96.000000</td>\n",
       "    </tr>\n",
       "    <tr>\n",
       "      <th>6</th>\n",
       "      <td>75%</td>\n",
       "      <td>99.000000</td>\n",
       "    </tr>\n",
       "    <tr>\n",
       "      <th>7</th>\n",
       "      <td>max</td>\n",
       "      <td>100.000000</td>\n",
       "    </tr>\n",
       "  </tbody>\n",
       "</table>\n",
       "</div>"
      ],
      "text/plain": [
       "   index  review_scores_rating\n",
       "0  count           3171.000000\n",
       "1   mean             94.539262\n",
       "2    std              6.606083\n",
       "3    min             20.000000\n",
       "4    25%             93.000000\n",
       "5    50%             96.000000\n",
       "6    75%             99.000000\n",
       "7    max            100.000000"
      ]
     },
     "execution_count": 11,
     "metadata": {},
     "output_type": "execute_result"
    }
   ],
   "source": [
    "seattle_listing['review_scores_rating'].describe().reset_index()"
   ]
  },
  {
   "cell_type": "code",
   "execution_count": 12,
   "metadata": {
    "ExecuteTime": {
     "end_time": "2019-03-31T03:14:56.776165Z",
     "start_time": "2019-03-31T03:14:56.365777Z"
    },
    "_kg_hide-input": true
   },
   "outputs": [
    {
     "data": {
      "image/png": "[encoded data removed]",
      "text/plain": [
       "<Figure size 1080x576 with 1 Axes>"
      ]
     },
     "metadata": {
      "needs_background": "light"
     },
     "output_type": "display_data"
    }
   ],
   "source": [
    "# cleaning data\n",
    "listings_q1_df = seattle_listing['review_scores_rating'].dropna()\n",
    "\n",
    "# plot histgram\n",
    "plt.figure(figsize=(15, 8))\n",
    "plt.hist(listings_q1_df.values, bins=80, color='r')\n",
    "plt.grid()"
   ]
  },
  {
   "cell_type": "markdown",
   "metadata": {},
   "source": [
    "This is very right skewed distribution.  \n",
    "The 75% or more values are 90 points. And the most common thing is 100 points.  \n",
    "I can say the low score listings are minolity."
   ]
  },
  {
   "cell_type": "markdown",
   "metadata": {},
   "source": [
    "#### price"
   ]
  },
  {
   "cell_type": "code",
   "execution_count": 13,
   "metadata": {
    "ExecuteTime": {
     "end_time": "2019-03-31T03:14:56.797014Z",
     "start_time": "2019-03-31T03:14:56.778223Z"
    },
    "_kg_hide-input": true
   },
   "outputs": [
    {
     "data": {
      "text/html": [
       "<div>\n",
       "<style scoped>\n",
       "    .dataframe tbody tr th:only-of-type {\n",
       "        vertical-align: middle;\n",
       "    }\n",
       "\n",
       "    .dataframe tbody tr th {\n",
       "        vertical-align: top;\n",
       "    }\n",
       "\n",
       "    .dataframe thead th {\n",
       "        text-align: right;\n",
       "    }\n",
       "</style>\n",
       "<table border=\"1\" class=\"dataframe\">\n",
       "  <thead>\n",
       "    <tr style=\"text-align: right;\">\n",
       "      <th></th>\n",
       "      <th>index</th>\n",
       "      <th>price</th>\n",
       "    </tr>\n",
       "  </thead>\n",
       "  <tbody>\n",
       "    <tr>\n",
       "      <th>0</th>\n",
       "      <td>count</td>\n",
       "      <td>3818.000000</td>\n",
       "    </tr>\n",
       "    <tr>\n",
       "      <th>1</th>\n",
       "      <td>mean</td>\n",
       "      <td>127.976166</td>\n",
       "    </tr>\n",
       "    <tr>\n",
       "      <th>2</th>\n",
       "      <td>std</td>\n",
       "      <td>90.250022</td>\n",
       "    </tr>\n",
       "    <tr>\n",
       "      <th>3</th>\n",
       "      <td>min</td>\n",
       "      <td>20.000000</td>\n",
       "    </tr>\n",
       "    <tr>\n",
       "      <th>4</th>\n",
       "      <td>25%</td>\n",
       "      <td>75.000000</td>\n",
       "    </tr>\n",
       "    <tr>\n",
       "      <th>5</th>\n",
       "      <td>50%</td>\n",
       "      <td>100.000000</td>\n",
       "    </tr>\n",
       "    <tr>\n",
       "      <th>6</th>\n",
       "      <td>75%</td>\n",
       "      <td>150.000000</td>\n",
       "    </tr>\n",
       "    <tr>\n",
       "      <th>7</th>\n",
       "      <td>max</td>\n",
       "      <td>1000.000000</td>\n",
       "    </tr>\n",
       "  </tbody>\n",
       "</table>\n",
       "</div>"
      ],
      "text/plain": [
       "   index        price\n",
       "0  count  3818.000000\n",
       "1   mean   127.976166\n",
       "2    std    90.250022\n",
       "3    min    20.000000\n",
       "4    25%    75.000000\n",
       "5    50%   100.000000\n",
       "6    75%   150.000000\n",
       "7    max  1000.000000"
      ]
     },
     "execution_count": 13,
     "metadata": {},
     "output_type": "execute_result"
    }
   ],
   "source": [
    "# cleaning data\n",
    "listings_q2_df = seattle_listing.copy(deep=True)\n",
    "listings_q2_df = listings_q2_df['price'].dropna().reset_index()\n",
    "listings_q2_df['price'] = listings_q2_df['price'].map(lambda x: float(x[1:].replace(',', '')))\n",
    "\n",
    "listings_q2_df['price'].describe().reset_index()"
   ]
  },
  {
   "cell_type": "code",
   "execution_count": 14,
   "metadata": {
    "ExecuteTime": {
     "end_time": "2019-03-31T03:14:57.231309Z",
     "start_time": "2019-03-31T03:14:56.798687Z"
    }
   },
   "outputs": [
    {
     "data": {
      "image/png": "[encoded data removed]",
      "text/plain": [
       "<Figure size 1080x576 with 1 Axes>"
      ]
     },
     "metadata": {
      "needs_background": "light"
     },
     "output_type": "display_data"
    }
   ],
   "source": [
    "plt.figure(figsize=(15, 8))\n",
    "plt.hist(listings_q2_df.price, bins=100, color='r')\n",
    "plt.grid()"
   ]
  },
  {
   "cell_type": "markdown",
   "metadata": {},
   "source": [
    "This is long tail distribution.  \n",
    "Almost values are from 0 to 200."
   ]
  },
  {
   "cell_type": "markdown",
   "metadata": {},
   "source": [
    "#### maximum_nights"
   ]
  },
  {
   "cell_type": "code",
   "execution_count": 15,
   "metadata": {
    "ExecuteTime": {
     "end_time": "2019-03-31T03:14:57.245343Z",
     "start_time": "2019-03-31T03:14:57.233535Z"
    }
   },
   "outputs": [
    {
     "data": {
      "text/html": [
       "<div>\n",
       "<style scoped>\n",
       "    .dataframe tbody tr th:only-of-type {\n",
       "        vertical-align: middle;\n",
       "    }\n",
       "\n",
       "    .dataframe tbody tr th {\n",
       "        vertical-align: top;\n",
       "    }\n",
       "\n",
       "    .dataframe thead th {\n",
       "        text-align: right;\n",
       "    }\n",
       "</style>\n",
       "<table border=\"1\" class=\"dataframe\">\n",
       "  <thead>\n",
       "    <tr style=\"text-align: right;\">\n",
       "      <th></th>\n",
       "      <th>index</th>\n",
       "      <th>maximum_nights</th>\n",
       "    </tr>\n",
       "  </thead>\n",
       "  <tbody>\n",
       "    <tr>\n",
       "      <th>0</th>\n",
       "      <td>count</td>\n",
       "      <td>3818.000000</td>\n",
       "    </tr>\n",
       "    <tr>\n",
       "      <th>1</th>\n",
       "      <td>mean</td>\n",
       "      <td>780.447617</td>\n",
       "    </tr>\n",
       "    <tr>\n",
       "      <th>2</th>\n",
       "      <td>std</td>\n",
       "      <td>1683.589007</td>\n",
       "    </tr>\n",
       "    <tr>\n",
       "      <th>3</th>\n",
       "      <td>min</td>\n",
       "      <td>1.000000</td>\n",
       "    </tr>\n",
       "    <tr>\n",
       "      <th>4</th>\n",
       "      <td>25%</td>\n",
       "      <td>60.000000</td>\n",
       "    </tr>\n",
       "    <tr>\n",
       "      <th>5</th>\n",
       "      <td>50%</td>\n",
       "      <td>1125.000000</td>\n",
       "    </tr>\n",
       "    <tr>\n",
       "      <th>6</th>\n",
       "      <td>75%</td>\n",
       "      <td>1125.000000</td>\n",
       "    </tr>\n",
       "    <tr>\n",
       "      <th>7</th>\n",
       "      <td>max</td>\n",
       "      <td>100000.000000</td>\n",
       "    </tr>\n",
       "  </tbody>\n",
       "</table>\n",
       "</div>"
      ],
      "text/plain": [
       "   index  maximum_nights\n",
       "0  count     3818.000000\n",
       "1   mean      780.447617\n",
       "2    std     1683.589007\n",
       "3    min        1.000000\n",
       "4    25%       60.000000\n",
       "5    50%     1125.000000\n",
       "6    75%     1125.000000\n",
       "7    max   100000.000000"
      ]
     },
     "execution_count": 15,
     "metadata": {},
     "output_type": "execute_result"
    }
   ],
   "source": [
    "seattle_listing['maximum_nights'].describe().reset_index()"
   ]
  },
  {
   "cell_type": "code",
   "execution_count": 16,
   "metadata": {
    "ExecuteTime": {
     "end_time": "2019-03-31T03:14:57.674716Z",
     "start_time": "2019-03-31T03:14:57.247559Z"
    },
    "_kg_hide-input": true,
    "scrolled": false
   },
   "outputs": [
    {
     "data": {
      "image/png": "[encoded data removed]",
      "text/plain": [
       "<Figure size 1080x576 with 1 Axes>"
      ]
     },
     "metadata": {
      "needs_background": "light"
     },
     "output_type": "display_data"
    }
   ],
   "source": [
    "# eliminate outliers because maximum values are very large.\n",
    "listings_q3_df = seattle_listing[seattle_listing['maximum_nights'] <= 1500]\n",
    "\n",
    "plt.figure(figsize=(15, 8))\n",
    "plt.hist(listings_q3_df.maximum_nights, bins=100, color='r')\n",
    "plt.xlabel('maximum nights')\n",
    "plt.ylabel('listings count')\n",
    "plt.grid()"
   ]
  },
  {
   "cell_type": "markdown",
   "metadata": {},
   "source": [
    "This is very surprising because I expect it would be a week at most.  \n",
    "In fact, almost `maxmum_night` values are setted 1125.   \n",
    "I have not used Airbnb so I don't know, but maybe there may be something like the default value.  \n",
    "Or there maybe two segments, one is `spot available listings`, the other is `long term listings like normal rent`. "
   ]
  },
  {
   "cell_type": "markdown",
   "metadata": {},
   "source": [
    "#### Summary\n",
    "\n",
    "* The listings data has 92 columns.\n",
    "* The `review_scores_rating` has right skewed distribution, and almost values are over 90 points.\n",
    "* The `price` has long tail distribution, almost values are around 100\\$ but some values are much higher than other values.  \n",
    "* The `maximum_nights` has very special distribution. Their are two segments, one is about 3 years, the other is around 1week.\n",
    "\n",
    "OK, let's look at last data."
   ]
  },
  {
   "cell_type": "markdown",
   "metadata": {},
   "source": [
    "### reviews"
   ]
  },
  {
   "cell_type": "markdown",
   "metadata": {},
   "source": [
    "Let's begin with looking at first 5 row of the data and columns information."
   ]
  },
  {
   "cell_type": "code",
   "execution_count": 17,
   "metadata": {
    "ExecuteTime": {
     "end_time": "2019-03-31T03:14:57.687445Z",
     "start_time": "2019-03-31T03:14:57.676814Z"
    }
   },
   "outputs": [
    {
     "data": {
      "text/html": [
       "<div>\n",
       "<style scoped>\n",
       "    .dataframe tbody tr th:only-of-type {\n",
       "        vertical-align: middle;\n",
       "    }\n",
       "\n",
       "    .dataframe tbody tr th {\n",
       "        vertical-align: top;\n",
       "    }\n",
       "\n",
       "    .dataframe thead th {\n",
       "        text-align: right;\n",
       "    }\n",
       "</style>\n",
       "<table border=\"1\" class=\"dataframe\">\n",
       "  <thead>\n",
       "    <tr style=\"text-align: right;\">\n",
       "      <th></th>\n",
       "      <th>listing_id</th>\n",
       "      <th>id</th>\n",
       "      <th>date</th>\n",
       "      <th>reviewer_id</th>\n",
       "      <th>reviewer_name</th>\n",
       "      <th>comments</th>\n",
       "    </tr>\n",
       "  </thead>\n",
       "  <tbody>\n",
       "    <tr>\n",
       "      <th>0</th>\n",
       "      <td>7202016</td>\n",
       "      <td>38917982</td>\n",
       "      <td>2015-07-19</td>\n",
       "      <td>28943674</td>\n",
       "      <td>Bianca</td>\n",
       "      <td>Cute and cozy place. Perfect location to every...</td>\n",
       "    </tr>\n",
       "    <tr>\n",
       "      <th>1</th>\n",
       "      <td>7202016</td>\n",
       "      <td>39087409</td>\n",
       "      <td>2015-07-20</td>\n",
       "      <td>32440555</td>\n",
       "      <td>Frank</td>\n",
       "      <td>Kelly has a great room in a very central locat...</td>\n",
       "    </tr>\n",
       "    <tr>\n",
       "      <th>2</th>\n",
       "      <td>7202016</td>\n",
       "      <td>39820030</td>\n",
       "      <td>2015-07-26</td>\n",
       "      <td>37722850</td>\n",
       "      <td>Ian</td>\n",
       "      <td>Very spacious apartment, and in a great neighb...</td>\n",
       "    </tr>\n",
       "    <tr>\n",
       "      <th>3</th>\n",
       "      <td>7202016</td>\n",
       "      <td>40813543</td>\n",
       "      <td>2015-08-02</td>\n",
       "      <td>33671805</td>\n",
       "      <td>George</td>\n",
       "      <td>Close to Seattle Center and all it has to offe...</td>\n",
       "    </tr>\n",
       "    <tr>\n",
       "      <th>4</th>\n",
       "      <td>7202016</td>\n",
       "      <td>41986501</td>\n",
       "      <td>2015-08-10</td>\n",
       "      <td>34959538</td>\n",
       "      <td>Ming</td>\n",
       "      <td>Kelly was a great host and very accommodating ...</td>\n",
       "    </tr>\n",
       "  </tbody>\n",
       "</table>\n",
       "</div>"
      ],
      "text/plain": [
       "   listing_id        id        date  reviewer_id reviewer_name  \\\n",
       "0     7202016  38917982  2015-07-19     28943674        Bianca   \n",
       "1     7202016  39087409  2015-07-20     32440555         Frank   \n",
       "2     7202016  39820030  2015-07-26     37722850           Ian   \n",
       "3     7202016  40813543  2015-08-02     33671805        George   \n",
       "4     7202016  41986501  2015-08-10     34959538          Ming   \n",
       "\n",
       "                                            comments  \n",
       "0  Cute and cozy place. Perfect location to every...  \n",
       "1  Kelly has a great room in a very central locat...  \n",
       "2  Very spacious apartment, and in a great neighb...  \n",
       "3  Close to Seattle Center and all it has to offe...  \n",
       "4  Kelly was a great host and very accommodating ...  "
      ]
     },
     "execution_count": 17,
     "metadata": {},
     "output_type": "execute_result"
    }
   ],
   "source": [
    "seattle_review.head()"
   ]
  },
  {
   "cell_type": "code",
   "execution_count": 18,
   "metadata": {
    "ExecuteTime": {
     "end_time": "2019-03-31T03:14:57.724967Z",
     "start_time": "2019-03-31T03:14:57.689584Z"
    }
   },
   "outputs": [
    {
     "name": "stdout",
     "output_type": "stream",
     "text": [
      "<class 'pandas.core.frame.DataFrame'>\n",
      "RangeIndex: 84849 entries, 0 to 84848\n",
      "Data columns (total 6 columns):\n",
      " #   Column         Non-Null Count  Dtype \n",
      "---  ------         --------------  ----- \n",
      " 0   listing_id     84849 non-null  int64 \n",
      " 1   id             84849 non-null  int64 \n",
      " 2   date           84849 non-null  object\n",
      " 3   reviewer_id    84849 non-null  int64 \n",
      " 4   reviewer_name  84849 non-null  object\n",
      " 5   comments       84831 non-null  object\n",
      "dtypes: int64(3), object(3)\n",
      "memory usage: 3.9+ MB\n"
     ]
    }
   ],
   "source": [
    "seattle_review.info()"
   ]
  },
  {
   "cell_type": "markdown",
   "metadata": {},
   "source": [
    "There are six columns, such as listing_id that received review, id of reviews, when review submitted, and so on.  \n",
    "I'm concerned that there are no review scores here. I think it might be in comments, so let's confirm this."
   ]
  },
  {
   "cell_type": "code",
   "execution_count": 19,
   "metadata": {
    "ExecuteTime": {
     "end_time": "2019-03-31T03:14:57.732162Z",
     "start_time": "2019-03-31T03:14:57.727665Z"
    }
   },
   "outputs": [
    {
     "name": "stdout",
     "output_type": "stream",
     "text": [
      "sample 1:  Cute and cozy place. Perfect location to everything!  \n",
      "\n",
      "sample 2:  Close to Seattle Center and all it has to offer - ballet, theater, museum, Space Needle, restaurants of all ilk just blocks away, and the Metropolitan (probably the coolest grocer you'll ever find). Easy to find and Kelly was warm, welcoming, and really interesting to talk to. \n"
     ]
    }
   ],
   "source": [
    "print(\"sample 1: \", seattle_review.comments.values[0], \"\\n\")\n",
    "print(\"sample 2: \", seattle_review.comments.values[3])"
   ]
  },
  {
   "cell_type": "markdown",
   "metadata": {},
   "source": [
    "From the above, the review score seems not to be included."
   ]
  },
  {
   "cell_type": "markdown",
   "metadata": {},
   "source": [
    "Next, I want to see the time series change of the number of comments."
   ]
  },
  {
   "cell_type": "code",
   "execution_count": 20,
   "metadata": {
    "ExecuteTime": {
     "end_time": "2019-03-31T03:14:58.115661Z",
     "start_time": "2019-03-31T03:14:57.737748Z"
    },
    "_kg_hide-input": true
   },
   "outputs": [
    {
     "data": {
      "image/png": "[encoded data removed]",
      "text/plain": [
       "<Figure size 1080x576 with 1 Axes>"
      ]
     },
     "metadata": {
      "needs_background": "light"
     },
     "output_type": "display_data"
    }
   ],
   "source": [
    "# convert date column's data type to date from object\n",
    "review_q1_df = seattle_review.copy(deep=True)\n",
    "review_q1_df.date = pd.to_datetime(review_q1_df.date)\n",
    "\n",
    "review_q1_df = review_q1_df.groupby('date')['id'].count().reset_index()\n",
    "\n",
    "# plot avg listings prices over time.\n",
    "plt.figure(figsize=(15, 8))\n",
    "plt.plot(review_q1_df.date, review_q1_df.id, color='r', linewidth=0.9)\n",
    "plt.title(\"Number of reviews by date\")\n",
    "plt.xlabel('date')\n",
    "plt.ylabel('number of reviews')\n",
    "plt.grid()"
   ]
  },
  {
   "cell_type": "markdown",
   "metadata": {},
   "source": [
    "It is little noisy, but we can see an increase in the number of Airbnb users. (and the date range is wide than calendar data)  \n",
    "And I realize it seems to have a peak at about the same time of each year.  \n",
    "So, let's use moving averages to smooth the graph."
   ]
  },
  {
   "cell_type": "code",
   "execution_count": 21,
   "metadata": {
    "ExecuteTime": {
     "end_time": "2019-03-31T03:14:58.438945Z",
     "start_time": "2019-03-31T03:14:58.11825Z"
    },
    "_kg_hide-input": true
   },
   "outputs": [
    {
     "data": {
      "image/png": "[encoded data removed]",
      "text/plain": [
       "<Figure size 1080x576 with 1 Axes>"
      ]
     },
     "metadata": {
      "needs_background": "light"
     },
     "output_type": "display_data"
    }
   ],
   "source": [
    "# create rolling mean column\n",
    "review_q1_df[\"rolling_mean_30\"] = review_q1_df.id.rolling(window=30).mean()\n",
    "\n",
    "# plot avg listings prices over time.\n",
    "plt.figure(figsize=(15, 8))\n",
    "plt.plot(review_q1_df.date, review_q1_df.rolling_mean_30, color='r', linewidth=2.0)\n",
    "plt.title(\"Number of reviews by date\")\n",
    "plt.xlabel('date')\n",
    "plt.ylabel('number of reviews')\n",
    "plt.grid()"
   ]
  },
  {
   "cell_type": "markdown",
   "metadata": {},
   "source": [
    "I tried thirty days (about 1 month) window.  \n",
    "The graph became smooth and the trend became clear, and my belief that the peaks were in the same place became stronger.  \n",
    "Next, I extract when the peak comes in each year."
   ]
  },
  {
   "cell_type": "code",
   "execution_count": 22,
   "metadata": {
    "ExecuteTime": {
     "end_time": "2019-03-31T03:14:58.460958Z",
     "start_time": "2019-03-31T03:14:58.441493Z"
    },
    "_kg_hide-input": true
   },
   "outputs": [
    {
     "name": "stdout",
     "output_type": "stream",
     "text": [
      "2010 2010-10-04 2.3\n",
      "2011 2011-08-31 7.0\n",
      "2012 2012-09-04 16.2\n",
      "2013 2013-09-04 37.0\n",
      "2014 2014-09-03 112.6\n",
      "2015 2015-09-05 261.6\n"
     ]
    }
   ],
   "source": [
    "review_q1_df[\"year\"] = review_q1_df.date.dt.year\n",
    "years = review_q1_df.year.unique()\n",
    "\n",
    "for year in years:\n",
    "    if year >= 2010 and year < 2016:\n",
    "        year_df = review_q1_df[review_q1_df.year == year]\n",
    "        max_value = year_df.rolling_mean_30.max()\n",
    "        max_date = year_df[year_df.rolling_mean_30 == max_value].date.dt.date.values[0]\n",
    "        print(year, max_date, np.round(max_value, 1))"
   ]
  },
  {
   "cell_type": "markdown",
   "metadata": {
    "ExecuteTime": {
     "end_time": "2019-03-29T11:04:53.227106Z",
     "start_time": "2019-03-29T11:04:53.224167Z"
    }
   },
   "source": [
    "My hypothesis is correct.  \n",
    "The peak seems to be towards the beginning of September!!\n",
    "Is this summer vacation?"
   ]
  },
  {
   "cell_type": "markdown",
   "metadata": {},
   "source": [
    "### Answer my Question"
   ]
  },
  {
   "cell_type": "markdown",
   "metadata": {},
   "source": [
    "Up to this point, I can answer two of the three questions mentioned at the beginning. \n",
    "First of all, let's answer from the question.\n",
    "**How long is the period available for lending by rooms?**\n",
    "\n",
    "This was shown when investigating listing data. There were two groups in listings. It's a listing available at spots with a maximum nights less than a week and a listing of a sense of renting available for up to three years. \n",
    "\n",
    "For a further discussion, plot a scatter plot of maximum nights and minimum nights."
   ]
  },
  {
   "cell_type": "code",
   "execution_count": 23,
   "metadata": {
    "ExecuteTime": {
     "end_time": "2019-03-31T03:14:58.816455Z",
     "start_time": "2019-03-31T03:14:58.46307Z"
    },
    "_kg_hide-input": true
   },
   "outputs": [
    {
     "data": {
      "image/png": "[encoded data removed]",
      "text/plain": [
       "<Figure size 1080x576 with 1 Axes>"
      ]
     },
     "metadata": {
      "needs_background": "light"
     },
     "output_type": "display_data"
    }
   ],
   "source": [
    "listings_q3_df[\"min_max_night_diff\"] = listings_q3_df.maximum_nights - listings_q3_df.minimum_nights\n",
    "\n",
    "plt.figure(figsize=(15, 8))\n",
    "plt.plot(listings_q3_df.maximum_nights, listings_q3_df.minimum_nights, color='r', marker='^', linewidth=0, alpha=0.25)\n",
    "plt.xlabel('maximum nights')\n",
    "plt.ylabel('minimum nights')\n",
    "plt.grid()"
   ]
  },
  {
   "cell_type": "markdown",
   "metadata": {},
   "source": [
    "From here, it can be seen that the minimum nights is almost constant regardless of the maximum nights.\n",
    "In other words, it can be seen that listings with a long maximum nights are not rented exclusively for rental, but are widely handled from spot use to long-term stay."
   ]
  },
  {
   "cell_type": "markdown",
   "metadata": {},
   "source": [
    "Let's answer the second question.  \n",
    "**Is there a busy season?**\n",
    "\n",
    "It can not be said exactly because the actual duration of the user's stay are not included in the data, but the number of reviews is considered to be a guide.\n",
    "In addition, since periodical peaks appear in the number of reviews annually, it may be considered that the neighborhood is a busy season.\n",
    "\n",
    "We found that the biggest busy season was the beginning of September, but how long will it be the busy season? Let's look in more detail!"
   ]
  },
  {
   "cell_type": "code",
   "execution_count": 24,
   "metadata": {
    "ExecuteTime": {
     "end_time": "2019-03-31T03:14:59.117372Z",
     "start_time": "2019-03-31T03:14:58.819343Z"
    },
    "_kg_hide-input": true
   },
   "outputs": [
    {
     "data": {
      "image/png": "[encoded data removed]",
      "text/plain": [
       "<Figure size 1080x576 with 1 Axes>"
      ]
     },
     "metadata": {
      "needs_background": "light"
     },
     "output_type": "display_data"
    }
   ],
   "source": [
    "review_q2_df = review_q1_df[review_q1_df.year == 2015]\n",
    "\n",
    "plt.figure(figsize=(15, 8))\n",
    "plt.plot(review_q2_df.date, review_q2_df.rolling_mean_30, color='r', linewidth=2.0)\n",
    "plt.title(\"Number of reviews by date\")\n",
    "plt.grid()"
   ]
  },
  {
   "cell_type": "markdown",
   "metadata": {},
   "source": [
    "It's hard to say clearly when to begin and when to end.  \n",
    "But, from here it may be able to say the busy season is One month before and after from September."
   ]
  },
  {
   "cell_type": "markdown",
   "metadata": {},
   "source": [
    "## Data Preparation"
   ]
  },
  {
   "cell_type": "markdown",
   "metadata": {},
   "source": [
    "From here, I want to answer the last question, **\"Are there any trends of popular rooms?\"**.  \n",
    "So, Let's begin to clean and process the listing data."
   ]
  },
  {
   "cell_type": "markdown",
   "metadata": {
    "ExecuteTime": {
     "end_time": "2019-03-31T01:34:52.324035Z",
     "start_time": "2019-03-31T01:34:52.135724Z"
    }
   },
   "source": [
    "First, we need to define the target variable 'Popular of listings'. I thought this could be defined as follows.\n",
    "\n",
    "[Actual number of times rent] / ([Available days from 2016 to 2017] * (2017 - [Year of the listings open]))\n",
    "\n",
    "Since the number of times the listings are actually rent is considered to be proportional to the number of days the property is available, it needs to be scaled, and Furthermore, since the number is considered to increase the earlier the listings is released to the public, we need to scale there as well.\n",
    "\n",
    "One thing I can not consider here is the period when the listings was actually rented. The longer the period of rending, the smaller the number of times of rending. However, there are no data to consider this, so I will assume that most of Airbnb users are short-term use. "
   ]
  },
  {
   "cell_type": "markdown",
   "metadata": {},
   "source": [
    "First, we start with a check for null values. This is because we can not use columns that has too null values."
   ]
  },
  {
   "cell_type": "code",
   "execution_count": 25,
   "metadata": {
    "ExecuteTime": {
     "end_time": "2019-03-31T03:24:26.18542Z",
     "start_time": "2019-03-31T03:24:26.176604Z"
    }
   },
   "outputs": [],
   "source": [
    "prepare_df = seattle_listing.copy(deep=True)"
   ]
  },
  {
   "cell_type": "code",
   "execution_count": 26,
   "metadata": {
    "ExecuteTime": {
     "end_time": "2019-03-31T03:24:26.267702Z",
     "start_time": "2019-03-31T03:24:26.189136Z"
    },
    "_kg_hide-input": true,
    "scrolled": true
   },
   "outputs": [
    {
     "name": "stdout",
     "output_type": "stream",
     "text": [
      "summary has 177 null values (4.64%)\n",
      "space has 569 null values (14.9%)\n",
      "neighborhood_overview has 1032 null values (27.03%)\n",
      "notes has 1606 null values (42.06%)\n",
      "transit has 934 null values (24.46%)\n",
      "thumbnail_url has 320 null values (8.38%)\n",
      "medium_url has 320 null values (8.38%)\n",
      "xl_picture_url has 320 null values (8.38%)\n",
      "host_name has 2 null values (0.05%)\n",
      "host_since has 2 null values (0.05%)\n",
      "host_location has 8 null values (0.21%)\n",
      "host_about has 859 null values (22.5%)\n",
      "host_response_time has 523 null values (13.7%)\n",
      "host_response_rate has 523 null values (13.7%)\n",
      "host_acceptance_rate has 773 null values (20.25%)\n",
      "host_is_superhost has 2 null values (0.05%)\n",
      "host_thumbnail_url has 2 null values (0.05%)\n",
      "host_picture_url has 2 null values (0.05%)\n",
      "host_neighbourhood has 300 null values (7.86%)\n",
      "host_listings_count has 2 null values (0.05%)\n",
      "host_total_listings_count has 2 null values (0.05%)\n",
      "host_has_profile_pic has 2 null values (0.05%)\n",
      "host_identity_verified has 2 null values (0.05%)\n",
      "neighbourhood has 416 null values (10.9%)\n",
      "zipcode has 7 null values (0.18%)\n",
      "property_type has 1 null values (0.03%)\n",
      "bathrooms has 16 null values (0.42%)\n",
      "bedrooms has 6 null values (0.16%)\n",
      "beds has 1 null values (0.03%)\n",
      "square_feet has 3721 null values (97.46%)\n",
      "weekly_price has 1809 null values (47.38%)\n",
      "monthly_price has 2301 null values (60.27%)\n",
      "security_deposit has 1952 null values (51.13%)\n",
      "cleaning_fee has 1030 null values (26.98%)\n",
      "first_review has 627 null values (16.42%)\n",
      "last_review has 627 null values (16.42%)\n",
      "review_scores_rating has 647 null values (16.95%)\n",
      "review_scores_accuracy has 658 null values (17.23%)\n",
      "review_scores_cleanliness has 653 null values (17.1%)\n",
      "review_scores_checkin has 658 null values (17.23%)\n",
      "review_scores_communication has 651 null values (17.05%)\n",
      "review_scores_location has 655 null values (17.16%)\n",
      "review_scores_value has 656 null values (17.18%)\n",
      "license has 3818 null values (100.0%)\n",
      "reviews_per_month has 627 null values (16.42%)\n"
     ]
    }
   ],
   "source": [
    "# check null count\n",
    "df_length = prepare_df.shape[0]\n",
    "\n",
    "for col in prepare_df.columns:\n",
    "    null_count = prepare_df[col].isnull().sum()\n",
    "    if null_count == 0:\n",
    "        continue\n",
    "        \n",
    "    null_ratio = np.round(null_count/df_length * 100, 2)\n",
    "    print(\"{} has {} null values ({}%)\".format(col, null_count, null_ratio))"
   ]
  },
  {
   "cell_type": "markdown",
   "metadata": {},
   "source": [
    "As you can see, it seems that there are columns 90% or more of the values are null, but most of the columns have between 0-30% of null_ratio. Therefore, here, I decided to excluded from analysis the columns with 30% or more null ratio.\n",
    "\n",
    "Also, it seems that there are only two null values in `host_since` used to calculate the target variable. This needs to be removed. "
   ]
  },
  {
   "cell_type": "code",
   "execution_count": 27,
   "metadata": {
    "ExecuteTime": {
     "end_time": "2019-03-31T03:24:26.419839Z",
     "start_time": "2019-03-31T03:24:26.270215Z"
    },
    "_kg_hide-input": true
   },
   "outputs": [
    {
     "name": "stdout",
     "output_type": "stream",
     "text": [
      "summary has 177 null values (4.64%)\n",
      "space has 568 null values (14.88%)\n",
      "neighborhood_overview has 1031 null values (27.0%)\n",
      "transit has 933 null values (24.44%)\n",
      "thumbnail_url has 320 null values (8.38%)\n",
      "medium_url has 320 null values (8.38%)\n",
      "xl_picture_url has 320 null values (8.38%)\n",
      "host_location has 6 null values (0.16%)\n",
      "host_about has 857 null values (22.45%)\n",
      "host_response_time has 521 null values (13.65%)\n",
      "host_response_rate has 521 null values (13.65%)\n",
      "host_acceptance_rate has 771 null values (20.19%)\n",
      "host_neighbourhood has 298 null values (7.81%)\n",
      "neighbourhood has 416 null values (10.9%)\n",
      "zipcode has 7 null values (0.18%)\n",
      "property_type has 1 null values (0.03%)\n",
      "bathrooms has 16 null values (0.42%)\n",
      "bedrooms has 6 null values (0.16%)\n",
      "beds has 1 null values (0.03%)\n",
      "cleaning_fee has 1029 null values (26.95%)\n",
      "first_review has 625 null values (16.37%)\n",
      "last_review has 625 null values (16.37%)\n",
      "review_scores_rating has 645 null values (16.89%)\n",
      "review_scores_accuracy has 656 null values (17.18%)\n",
      "review_scores_cleanliness has 651 null values (17.05%)\n",
      "review_scores_checkin has 656 null values (17.18%)\n",
      "review_scores_communication has 649 null values (17.0%)\n",
      "review_scores_location has 653 null values (17.1%)\n",
      "review_scores_value has 654 null values (17.13%)\n",
      "reviews_per_month has 625 null values (16.37%)\n"
     ]
    }
   ],
   "source": [
    "# detect need drop columns\n",
    "drop_cols = [col for col in prepare_df.columns if prepare_df[col].isnull().sum()/df_length >= 0.3]\n",
    "\n",
    "# drop null\n",
    "prepare_df.drop(drop_cols, axis=1, inplace=True)\n",
    "prepare_df.dropna(subset=['host_since'], inplace=True)\n",
    "\n",
    "# check after\n",
    "for col in prepare_df.columns:\n",
    "    null_count = prepare_df[col].isnull().sum()\n",
    "    if null_count == 0:\n",
    "        continue\n",
    "        \n",
    "    null_ratio = np.round(null_count/df_length * 100, 2)\n",
    "    print(\"{} has {} null values ({}%)\".format(col, null_count, null_ratio))"
   ]
  },
  {
   "cell_type": "markdown",
   "metadata": {},
   "source": [
    "Good.  \n",
    "Next, we will delete the column that seems not to be a feature of ease of borrowing. Since we do not include natural language processing this time, we will also delete comment-based columns."
   ]
  },
  {
   "cell_type": "code",
   "execution_count": 28,
   "metadata": {
    "ExecuteTime": {
     "end_time": "2019-03-31T03:24:26.434982Z",
     "start_time": "2019-03-31T03:24:26.424073Z"
    },
    "_kg_hide-input": true
   },
   "outputs": [],
   "source": [
    "drop_cols = ['listing_url', 'scrape_id', 'last_scraped', 'name', 'summary', 'space', 'description', 'neighborhood_overview',\n",
    "                'transit', 'medium_url', 'picture_url', 'xl_picture_url', 'host_id', 'host_url', 'host_name', 'host_about', 'host_thumbnail_url',\n",
    "                'host_picture_url', 'street', 'city', 'state', 'zipcode', 'market', 'smart_location', 'country_code', 'country', 'latitude', 'longitude',\n",
    "                'calendar_updated', 'calendar_last_scraped', 'first_review', 'last_review', 'amenities', 'host_verifications']\n",
    "\n",
    "prepare_df.drop(drop_cols, axis=1, inplace=True)"
   ]
  },
  {
   "cell_type": "markdown",
   "metadata": {},
   "source": [
    "Furthermore, delete columns that have only a single value, because the feature value does not make sense."
   ]
  },
  {
   "cell_type": "code",
   "execution_count": 29,
   "metadata": {
    "ExecuteTime": {
     "end_time": "2019-03-31T03:24:26.481021Z",
     "start_time": "2019-03-31T03:24:26.450158Z"
    },
    "_kg_hide-input": true
   },
   "outputs": [
    {
     "data": {
      "text/html": [
       "<div>\n",
       "<style scoped>\n",
       "    .dataframe tbody tr th:only-of-type {\n",
       "        vertical-align: middle;\n",
       "    }\n",
       "\n",
       "    .dataframe tbody tr th {\n",
       "        vertical-align: top;\n",
       "    }\n",
       "\n",
       "    .dataframe thead th {\n",
       "        text-align: right;\n",
       "    }\n",
       "</style>\n",
       "<table border=\"1\" class=\"dataframe\">\n",
       "  <thead>\n",
       "    <tr style=\"text-align: right;\">\n",
       "      <th></th>\n",
       "      <th>id</th>\n",
       "      <th>thumbnail_url</th>\n",
       "      <th>host_since</th>\n",
       "      <th>host_location</th>\n",
       "      <th>host_response_time</th>\n",
       "      <th>host_response_rate</th>\n",
       "      <th>host_acceptance_rate</th>\n",
       "      <th>host_is_superhost</th>\n",
       "      <th>host_neighbourhood</th>\n",
       "      <th>host_listings_count</th>\n",
       "      <th>...</th>\n",
       "      <th>review_scores_checkin</th>\n",
       "      <th>review_scores_communication</th>\n",
       "      <th>review_scores_location</th>\n",
       "      <th>review_scores_value</th>\n",
       "      <th>instant_bookable</th>\n",
       "      <th>cancellation_policy</th>\n",
       "      <th>require_guest_profile_picture</th>\n",
       "      <th>require_guest_phone_verification</th>\n",
       "      <th>calculated_host_listings_count</th>\n",
       "      <th>reviews_per_month</th>\n",
       "    </tr>\n",
       "  </thead>\n",
       "  <tbody>\n",
       "    <tr>\n",
       "      <th>0</th>\n",
       "      <td>241032</td>\n",
       "      <td>NaN</td>\n",
       "      <td>2011-08-11</td>\n",
       "      <td>Seattle, Washington, United States</td>\n",
       "      <td>within a few hours</td>\n",
       "      <td>96%</td>\n",
       "      <td>100%</td>\n",
       "      <td>f</td>\n",
       "      <td>Queen Anne</td>\n",
       "      <td>3.0</td>\n",
       "      <td>...</td>\n",
       "      <td>10.0</td>\n",
       "      <td>10.0</td>\n",
       "      <td>9.0</td>\n",
       "      <td>10.0</td>\n",
       "      <td>f</td>\n",
       "      <td>moderate</td>\n",
       "      <td>f</td>\n",
       "      <td>f</td>\n",
       "      <td>2</td>\n",
       "      <td>4.07</td>\n",
       "    </tr>\n",
       "    <tr>\n",
       "      <th>1</th>\n",
       "      <td>953595</td>\n",
       "      <td>https://a0.muscache.com/ac/pictures/14409893/f...</td>\n",
       "      <td>2013-02-21</td>\n",
       "      <td>Seattle, Washington, United States</td>\n",
       "      <td>within an hour</td>\n",
       "      <td>98%</td>\n",
       "      <td>100%</td>\n",
       "      <td>t</td>\n",
       "      <td>Queen Anne</td>\n",
       "      <td>6.0</td>\n",
       "      <td>...</td>\n",
       "      <td>10.0</td>\n",
       "      <td>10.0</td>\n",
       "      <td>10.0</td>\n",
       "      <td>10.0</td>\n",
       "      <td>f</td>\n",
       "      <td>strict</td>\n",
       "      <td>t</td>\n",
       "      <td>t</td>\n",
       "      <td>6</td>\n",
       "      <td>1.48</td>\n",
       "    </tr>\n",
       "    <tr>\n",
       "      <th>2</th>\n",
       "      <td>3308979</td>\n",
       "      <td>NaN</td>\n",
       "      <td>2014-06-12</td>\n",
       "      <td>Seattle, Washington, United States</td>\n",
       "      <td>within a few hours</td>\n",
       "      <td>67%</td>\n",
       "      <td>100%</td>\n",
       "      <td>f</td>\n",
       "      <td>Queen Anne</td>\n",
       "      <td>2.0</td>\n",
       "      <td>...</td>\n",
       "      <td>10.0</td>\n",
       "      <td>10.0</td>\n",
       "      <td>10.0</td>\n",
       "      <td>10.0</td>\n",
       "      <td>f</td>\n",
       "      <td>strict</td>\n",
       "      <td>f</td>\n",
       "      <td>f</td>\n",
       "      <td>2</td>\n",
       "      <td>1.15</td>\n",
       "    </tr>\n",
       "    <tr>\n",
       "      <th>3</th>\n",
       "      <td>7421966</td>\n",
       "      <td>NaN</td>\n",
       "      <td>2013-11-06</td>\n",
       "      <td>Seattle, Washington, United States</td>\n",
       "      <td>NaN</td>\n",
       "      <td>NaN</td>\n",
       "      <td>NaN</td>\n",
       "      <td>f</td>\n",
       "      <td>Queen Anne</td>\n",
       "      <td>1.0</td>\n",
       "      <td>...</td>\n",
       "      <td>NaN</td>\n",
       "      <td>NaN</td>\n",
       "      <td>NaN</td>\n",
       "      <td>NaN</td>\n",
       "      <td>f</td>\n",
       "      <td>flexible</td>\n",
       "      <td>f</td>\n",
       "      <td>f</td>\n",
       "      <td>1</td>\n",
       "      <td>NaN</td>\n",
       "    </tr>\n",
       "    <tr>\n",
       "      <th>4</th>\n",
       "      <td>278830</td>\n",
       "      <td>NaN</td>\n",
       "      <td>2011-11-29</td>\n",
       "      <td>Seattle, Washington, United States</td>\n",
       "      <td>within an hour</td>\n",
       "      <td>100%</td>\n",
       "      <td>NaN</td>\n",
       "      <td>f</td>\n",
       "      <td>Queen Anne</td>\n",
       "      <td>2.0</td>\n",
       "      <td>...</td>\n",
       "      <td>10.0</td>\n",
       "      <td>10.0</td>\n",
       "      <td>9.0</td>\n",
       "      <td>9.0</td>\n",
       "      <td>f</td>\n",
       "      <td>strict</td>\n",
       "      <td>f</td>\n",
       "      <td>f</td>\n",
       "      <td>1</td>\n",
       "      <td>0.89</td>\n",
       "    </tr>\n",
       "    <tr>\n",
       "      <th>...</th>\n",
       "      <td>...</td>\n",
       "      <td>...</td>\n",
       "      <td>...</td>\n",
       "      <td>...</td>\n",
       "      <td>...</td>\n",
       "      <td>...</td>\n",
       "      <td>...</td>\n",
       "      <td>...</td>\n",
       "      <td>...</td>\n",
       "      <td>...</td>\n",
       "      <td>...</td>\n",
       "      <td>...</td>\n",
       "      <td>...</td>\n",
       "      <td>...</td>\n",
       "      <td>...</td>\n",
       "      <td>...</td>\n",
       "      <td>...</td>\n",
       "      <td>...</td>\n",
       "      <td>...</td>\n",
       "      <td>...</td>\n",
       "      <td>...</td>\n",
       "    </tr>\n",
       "    <tr>\n",
       "      <th>3813</th>\n",
       "      <td>8101950</td>\n",
       "      <td>https://a2.muscache.com/ac/pictures/103217071/...</td>\n",
       "      <td>2015-04-13</td>\n",
       "      <td>US</td>\n",
       "      <td>within a few hours</td>\n",
       "      <td>99%</td>\n",
       "      <td>100%</td>\n",
       "      <td>f</td>\n",
       "      <td>Holly</td>\n",
       "      <td>354.0</td>\n",
       "      <td>...</td>\n",
       "      <td>4.0</td>\n",
       "      <td>8.0</td>\n",
       "      <td>10.0</td>\n",
       "      <td>8.0</td>\n",
       "      <td>f</td>\n",
       "      <td>strict</td>\n",
       "      <td>f</td>\n",
       "      <td>f</td>\n",
       "      <td>8</td>\n",
       "      <td>0.30</td>\n",
       "    </tr>\n",
       "    <tr>\n",
       "      <th>3814</th>\n",
       "      <td>8902327</td>\n",
       "      <td>https://a2.muscache.com/ac/pictures/626d4b1f-6...</td>\n",
       "      <td>2015-10-14</td>\n",
       "      <td>Seattle, Washington, United States</td>\n",
       "      <td>within an hour</td>\n",
       "      <td>100%</td>\n",
       "      <td>100%</td>\n",
       "      <td>f</td>\n",
       "      <td>Portage Bay</td>\n",
       "      <td>1.0</td>\n",
       "      <td>...</td>\n",
       "      <td>10.0</td>\n",
       "      <td>10.0</td>\n",
       "      <td>10.0</td>\n",
       "      <td>10.0</td>\n",
       "      <td>f</td>\n",
       "      <td>moderate</td>\n",
       "      <td>f</td>\n",
       "      <td>f</td>\n",
       "      <td>1</td>\n",
       "      <td>2.00</td>\n",
       "    </tr>\n",
       "    <tr>\n",
       "      <th>3815</th>\n",
       "      <td>10267360</td>\n",
       "      <td>https://a2.muscache.com/ac/pictures/a5974f04-2...</td>\n",
       "      <td>2015-12-30</td>\n",
       "      <td>US</td>\n",
       "      <td>NaN</td>\n",
       "      <td>NaN</td>\n",
       "      <td>NaN</td>\n",
       "      <td>f</td>\n",
       "      <td>NaN</td>\n",
       "      <td>1.0</td>\n",
       "      <td>...</td>\n",
       "      <td>NaN</td>\n",
       "      <td>NaN</td>\n",
       "      <td>NaN</td>\n",
       "      <td>NaN</td>\n",
       "      <td>f</td>\n",
       "      <td>moderate</td>\n",
       "      <td>f</td>\n",
       "      <td>f</td>\n",
       "      <td>1</td>\n",
       "      <td>NaN</td>\n",
       "    </tr>\n",
       "    <tr>\n",
       "      <th>3816</th>\n",
       "      <td>9604740</td>\n",
       "      <td>https://a2.muscache.com/ac/pictures/202e4ad6-b...</td>\n",
       "      <td>2015-01-03</td>\n",
       "      <td>Tacoma, Washington, United States</td>\n",
       "      <td>within an hour</td>\n",
       "      <td>100%</td>\n",
       "      <td>NaN</td>\n",
       "      <td>f</td>\n",
       "      <td>NaN</td>\n",
       "      <td>1.0</td>\n",
       "      <td>...</td>\n",
       "      <td>NaN</td>\n",
       "      <td>NaN</td>\n",
       "      <td>NaN</td>\n",
       "      <td>NaN</td>\n",
       "      <td>f</td>\n",
       "      <td>moderate</td>\n",
       "      <td>f</td>\n",
       "      <td>f</td>\n",
       "      <td>1</td>\n",
       "      <td>NaN</td>\n",
       "    </tr>\n",
       "    <tr>\n",
       "      <th>3817</th>\n",
       "      <td>10208623</td>\n",
       "      <td>https://a2.muscache.com/ac/pictures/596705b3-0...</td>\n",
       "      <td>2014-04-25</td>\n",
       "      <td>Seattle, Washington, United States</td>\n",
       "      <td>within a day</td>\n",
       "      <td>100%</td>\n",
       "      <td>NaN</td>\n",
       "      <td>f</td>\n",
       "      <td>Queen Anne</td>\n",
       "      <td>1.0</td>\n",
       "      <td>...</td>\n",
       "      <td>NaN</td>\n",
       "      <td>NaN</td>\n",
       "      <td>NaN</td>\n",
       "      <td>NaN</td>\n",
       "      <td>f</td>\n",
       "      <td>flexible</td>\n",
       "      <td>f</td>\n",
       "      <td>f</td>\n",
       "      <td>1</td>\n",
       "      <td>NaN</td>\n",
       "    </tr>\n",
       "  </tbody>\n",
       "</table>\n",
       "<p>3816 rows × 48 columns</p>\n",
       "</div>"
      ],
      "text/plain": [
       "            id                                      thumbnail_url  host_since  \\\n",
       "0       241032                                                NaN  2011-08-11   \n",
       "1       953595  https://a0.muscache.com/ac/pictures/14409893/f...  2013-02-21   \n",
       "2      3308979                                                NaN  2014-06-12   \n",
       "3      7421966                                                NaN  2013-11-06   \n",
       "4       278830                                                NaN  2011-11-29   \n",
       "...        ...                                                ...         ...   \n",
       "3813   8101950  https://a2.muscache.com/ac/pictures/103217071/...  2015-04-13   \n",
       "3814   8902327  https://a2.muscache.com/ac/pictures/626d4b1f-6...  2015-10-14   \n",
       "3815  10267360  https://a2.muscache.com/ac/pictures/a5974f04-2...  2015-12-30   \n",
       "3816   9604740  https://a2.muscache.com/ac/pictures/202e4ad6-b...  2015-01-03   \n",
       "3817  10208623  https://a2.muscache.com/ac/pictures/596705b3-0...  2014-04-25   \n",
       "\n",
       "                           host_location  host_response_time  \\\n",
       "0     Seattle, Washington, United States  within a few hours   \n",
       "1     Seattle, Washington, United States      within an hour   \n",
       "2     Seattle, Washington, United States  within a few hours   \n",
       "3     Seattle, Washington, United States                 NaN   \n",
       "4     Seattle, Washington, United States      within an hour   \n",
       "...                                  ...                 ...   \n",
       "3813                                  US  within a few hours   \n",
       "3814  Seattle, Washington, United States      within an hour   \n",
       "3815                                  US                 NaN   \n",
       "3816   Tacoma, Washington, United States      within an hour   \n",
       "3817  Seattle, Washington, United States        within a day   \n",
       "\n",
       "     host_response_rate host_acceptance_rate host_is_superhost  \\\n",
       "0                   96%                 100%                 f   \n",
       "1                   98%                 100%                 t   \n",
       "2                   67%                 100%                 f   \n",
       "3                   NaN                  NaN                 f   \n",
       "4                  100%                  NaN                 f   \n",
       "...                 ...                  ...               ...   \n",
       "3813                99%                 100%                 f   \n",
       "3814               100%                 100%                 f   \n",
       "3815                NaN                  NaN                 f   \n",
       "3816               100%                  NaN                 f   \n",
       "3817               100%                  NaN                 f   \n",
       "\n",
       "     host_neighbourhood  host_listings_count  ...  review_scores_checkin  \\\n",
       "0            Queen Anne                  3.0  ...                   10.0   \n",
       "1            Queen Anne                  6.0  ...                   10.0   \n",
       "2            Queen Anne                  2.0  ...                   10.0   \n",
       "3            Queen Anne                  1.0  ...                    NaN   \n",
       "4            Queen Anne                  2.0  ...                   10.0   \n",
       "...                 ...                  ...  ...                    ...   \n",
       "3813              Holly                354.0  ...                    4.0   \n",
       "3814        Portage Bay                  1.0  ...                   10.0   \n",
       "3815                NaN                  1.0  ...                    NaN   \n",
       "3816                NaN                  1.0  ...                    NaN   \n",
       "3817         Queen Anne                  1.0  ...                    NaN   \n",
       "\n",
       "     review_scores_communication review_scores_location review_scores_value  \\\n",
       "0                           10.0                    9.0                10.0   \n",
       "1                           10.0                   10.0                10.0   \n",
       "2                           10.0                   10.0                10.0   \n",
       "3                            NaN                    NaN                 NaN   \n",
       "4                           10.0                    9.0                 9.0   \n",
       "...                          ...                    ...                 ...   \n",
       "3813                         8.0                   10.0                 8.0   \n",
       "3814                        10.0                   10.0                10.0   \n",
       "3815                         NaN                    NaN                 NaN   \n",
       "3816                         NaN                    NaN                 NaN   \n",
       "3817                         NaN                    NaN                 NaN   \n",
       "\n",
       "     instant_bookable cancellation_policy require_guest_profile_picture  \\\n",
       "0                   f            moderate                             f   \n",
       "1                   f              strict                             t   \n",
       "2                   f              strict                             f   \n",
       "3                   f            flexible                             f   \n",
       "4                   f              strict                             f   \n",
       "...               ...                 ...                           ...   \n",
       "3813                f              strict                             f   \n",
       "3814                f            moderate                             f   \n",
       "3815                f            moderate                             f   \n",
       "3816                f            moderate                             f   \n",
       "3817                f            flexible                             f   \n",
       "\n",
       "     require_guest_phone_verification calculated_host_listings_count  \\\n",
       "0                                   f                              2   \n",
       "1                                   t                              6   \n",
       "2                                   f                              2   \n",
       "3                                   f                              1   \n",
       "4                                   f                              1   \n",
       "...                               ...                            ...   \n",
       "3813                                f                              8   \n",
       "3814                                f                              1   \n",
       "3815                                f                              1   \n",
       "3816                                f                              1   \n",
       "3817                                f                              1   \n",
       "\n",
       "      reviews_per_month  \n",
       "0                  4.07  \n",
       "1                  1.48  \n",
       "2                  1.15  \n",
       "3                   NaN  \n",
       "4                  0.89  \n",
       "...                 ...  \n",
       "3813               0.30  \n",
       "3814               2.00  \n",
       "3815                NaN  \n",
       "3816                NaN  \n",
       "3817                NaN  \n",
       "\n",
       "[3816 rows x 48 columns]"
      ]
     },
     "execution_count": 29,
     "metadata": {},
     "output_type": "execute_result"
    }
   ],
   "source": [
    "drop_cols = []\n",
    "for col in prepare_df.columns:\n",
    "    if prepare_df[col].nunique() == 1:\n",
    "        drop_cols.append(col)\n",
    "        \n",
    "prepare_df.drop(drop_cols, axis=1, inplace=True)\n",
    "prepare_df"
   ]
  },
  {
   "cell_type": "markdown",
   "metadata": {},
   "source": [
    "Good. Now I almost finished remove columns that is not used for anallysis. So next, I create target valuable."
   ]
  },
  {
   "cell_type": "code",
   "execution_count": 30,
   "metadata": {
    "ExecuteTime": {
     "end_time": "2019-03-31T03:24:26.616969Z",
     "start_time": "2019-03-31T03:24:26.483704Z"
    },
    "_kg_hide-input": true
   },
   "outputs": [],
   "source": [
    "# available days count each listings\n",
    "listing_avalilable = seattle_calendar.groupby('listing_id')['price'].count().reset_index()\n",
    "listing_avalilable.columns = [\"id\", \"available_count\"]\n",
    "\n",
    "# merge\n",
    "prepare_df = prepare_df.merge(listing_avalilable, how='left', on='id')\n",
    "\n",
    "# create target column\n",
    "prepare_df['host_since_year'] = pd.to_datetime(prepare_df['host_since']).dt.year\n",
    "prepare_df[\"easily_accomodated\"] = prepare_df.accommodates / (prepare_df.available_count+1) / (2017 - prepare_df.host_since_year)"
   ]
  },
  {
   "cell_type": "markdown",
   "metadata": {},
   "source": [
    "Next, delete the column that seems to be directly related to the objective variable (ex. num_review)"
   ]
  },
  {
   "cell_type": "code",
   "execution_count": 31,
   "metadata": {
    "ExecuteTime": {
     "end_time": "2019-03-31T03:24:26.631474Z",
     "start_time": "2019-03-31T03:24:26.620035Z"
    },
    "_kg_hide-input": true
   },
   "outputs": [
    {
     "name": "stdout",
     "output_type": "stream",
     "text": [
      "Before: 51 columns\n",
      "After: 39 columns\n"
     ]
    }
   ],
   "source": [
    "print(\"Before: {} columns\".format(prepare_df.shape[1]))\n",
    "\n",
    "drop_cols = ['host_since', 'accommodates', 'availability_30', 'availability_60', 'availability_90', 'availability_365',\n",
    "                'number_of_reviews', 'review_scores_rating', 'available_count', 'reviews_per_month', 'host_since_year', 'review_scores_value']\n",
    "\n",
    "prepare_df.drop(drop_cols, axis=1, inplace=True)\n",
    "print(\"After: {} columns\".format(prepare_df.shape[1]))"
   ]
  },
  {
   "cell_type": "markdown",
   "metadata": {},
   "source": [
    "From here, I will turn the data into a form that the model can learn.  \n",
    "First, I will convert the category valuables to dummy valuables."
   ]
  },
  {
   "cell_type": "code",
   "execution_count": 32,
   "metadata": {
    "ExecuteTime": {
     "end_time": "2019-03-31T03:24:26.692533Z",
     "start_time": "2019-03-31T03:24:26.634192Z"
    },
    "_kg_hide-input": true
   },
   "outputs": [],
   "source": [
    "# convert true or false value to 1 or 0\n",
    "dummy_cols = ['host_is_superhost', 'require_guest_phone_verification', 'require_guest_profile_picture', 'instant_bookable', \n",
    "              'host_has_profile_pic', 'host_identity_verified', 'is_location_exact']\n",
    "\n",
    "for col in dummy_cols:\n",
    "    prepare_df[col] = prepare_df[col].map(lambda x: 1 if x == 't' else 0)\n",
    "\n",
    "# create dummy valuables\n",
    "dummy_cols = ['host_location', 'host_neighbourhood', 'neighbourhood', 'neighbourhood_cleansed', 'neighbourhood_group_cleansed',\n",
    "             'property_type', 'room_type', 'bed_type', 'cancellation_policy', 'host_response_time']\n",
    "\n",
    "prepare_df = pd.get_dummies(prepare_df, columns=dummy_cols, dummy_na=True)"
   ]
  },
  {
   "cell_type": "code",
   "execution_count": 33,
   "metadata": {
    "ExecuteTime": {
     "end_time": "2019-03-31T03:24:26.860917Z",
     "start_time": "2019-03-31T03:24:26.695408Z"
    },
    "_kg_hide-input": true
   },
   "outputs": [
    {
     "name": "stdout",
     "output_type": "stream",
     "text": [
      "thumbnail_url has 320 null values (8.39%)\n",
      "host_response_rate has 521 null values (13.65%)\n",
      "host_acceptance_rate has 771 null values (20.2%)\n",
      "bathrooms has 16 null values (0.42%)\n",
      "bedrooms has 6 null values (0.16%)\n",
      "beds has 1 null values (0.03%)\n",
      "cleaning_fee has 1029 null values (26.97%)\n",
      "review_scores_accuracy has 656 null values (17.19%)\n",
      "review_scores_cleanliness has 651 null values (17.06%)\n",
      "review_scores_checkin has 656 null values (17.19%)\n",
      "review_scores_communication has 649 null values (17.01%)\n",
      "review_scores_location has 653 null values (17.11%)\n"
     ]
    }
   ],
   "source": [
    "df_length = prepare_df.shape[0]\n",
    "\n",
    "for col in prepare_df.columns:\n",
    "    null_count = prepare_df[col].isnull().sum()\n",
    "    if null_count == 0:\n",
    "        continue\n",
    "        \n",
    "    null_ratio = np.round(null_count/df_length * 100, 2)\n",
    "    print(\"{} has {} null values ({}%)\".format(col, null_count, null_ratio))"
   ]
  },
  {
   "cell_type": "markdown",
   "metadata": {},
   "source": [
    "Next, handle any remaining null values."
   ]
  },
  {
   "cell_type": "code",
   "execution_count": 34,
   "metadata": {
    "ExecuteTime": {
     "end_time": "2019-03-31T03:24:26.899195Z",
     "start_time": "2019-03-31T03:24:26.863402Z"
    },
    "_kg_hide-input": true
   },
   "outputs": [],
   "source": [
    "prepare_df[\"is_thumbnail_setted\"] = 1 - prepare_df.thumbnail_url.isnull()\n",
    "prepare_df.drop('thumbnail_url', axis=1, inplace=True)\n",
    "prepare_df.host_response_rate = prepare_df.host_response_rate.fillna('0%').map(lambda x: float(x[:-1]))\n",
    "prepare_df.host_acceptance_rate = prepare_df.host_acceptance_rate.fillna('0%').map(lambda x: float(x[:-1]))\n",
    "prepare_df.bathrooms.fillna(0, inplace=True)\n",
    "prepare_df.bedrooms.fillna(0, inplace=True)\n",
    "prepare_df.beds.fillna(0, inplace=True)\n",
    "prepare_df.cleaning_fee.fillna('$0', inplace=True)\n",
    "prepare_df.review_scores_accuracy.fillna(0, inplace=True)\n",
    "prepare_df.review_scores_cleanliness.fillna(0, inplace=True)\n",
    "prepare_df.review_scores_checkin.fillna(0, inplace=True)\n",
    "prepare_df.review_scores_communication.fillna(0, inplace=True)\n",
    "prepare_df.review_scores_location.fillna(0, inplace=True)"
   ]
  },
  {
   "cell_type": "markdown",
   "metadata": {
    "ExecuteTime": {
     "end_time": "2019-03-31T03:19:26.129162Z",
     "start_time": "2019-03-31T03:19:26.125076Z"
    }
   },
   "source": [
    "Finally, since the value to be acted as a numeric value is recognized as a string, so let's convert it. "
   ]
  },
  {
   "cell_type": "code",
   "execution_count": 35,
   "metadata": {
    "ExecuteTime": {
     "end_time": "2019-03-31T03:24:26.925079Z",
     "start_time": "2019-03-31T03:24:26.901024Z"
    },
    "_kg_hide-input": true
   },
   "outputs": [
    {
     "name": "stdout",
     "output_type": "stream",
     "text": [
      "price\n",
      "cleaning_fee\n",
      "extra_people\n"
     ]
    }
   ],
   "source": [
    "for col in prepare_df.columns:\n",
    "    if prepare_df[col].dtypes == 'object':\n",
    "        print(col)"
   ]
  },
  {
   "cell_type": "code",
   "execution_count": 36,
   "metadata": {
    "ExecuteTime": {
     "end_time": "2019-03-31T03:24:26.94801Z",
     "start_time": "2019-03-31T03:24:26.928047Z"
    },
    "_kg_hide-input": true
   },
   "outputs": [],
   "source": [
    "prepare_df.price = prepare_df.price.map(lambda x: float(x[1:].replace(',', '')))\n",
    "prepare_df.cleaning_fee = prepare_df.cleaning_fee.map(lambda x: float(x[1:].replace(',', '')))\n",
    "prepare_df.extra_people = prepare_df.extra_people.map(lambda x: float(x[1:].replace(',', '')))"
   ]
  },
  {
   "cell_type": "markdown",
   "metadata": {},
   "source": [
    "## Modeling, Evaluation"
   ]
  },
  {
   "cell_type": "markdown",
   "metadata": {},
   "source": [
    "This problem is regression.\n",
    "I'll use Linear regressor here, and use cross validation to evaluation."
   ]
  },
  {
   "cell_type": "code",
   "execution_count": 37,
   "metadata": {
    "ExecuteTime": {
     "end_time": "2019-04-01T00:19:02.723317Z",
     "start_time": "2019-04-01T00:18:54.294442Z"
    }
   },
   "outputs": [],
   "source": [
    "X = prepare_df.drop(['id', 'easily_accomodated'], axis=1)\n",
    "y = prepare_df.easily_accomodated.values\n",
    "reg = LinearRegression().fit(X, y)\n",
    "scores = cross_val_score(reg, X, y, cv=5)"
   ]
  },
  {
   "cell_type": "code",
   "execution_count": 38,
   "metadata": {
    "ExecuteTime": {
     "end_time": "2019-04-01T00:19:06.08927Z",
     "start_time": "2019-04-01T00:19:06.085157Z"
    }
   },
   "outputs": [
    {
     "data": {
      "text/plain": [
       "array([-1.71191208e+10, -1.13449238e+10, -1.29894501e+08, -1.05333233e+06,\n",
       "       -1.63987025e+10])"
      ]
     },
     "execution_count": 38,
     "metadata": {},
     "output_type": "execute_result"
    }
   ],
   "source": [
    "scores"
   ]
  },
  {
   "cell_type": "markdown",
   "metadata": {},
   "source": [
    "I can not predict at all. Why?  \n",
    "To consider why, let's make a scatter plot of predicted and actual values."
   ]
  },
  {
   "cell_type": "code",
   "execution_count": 39,
   "metadata": {
    "ExecuteTime": {
     "end_time": "2019-04-01T00:23:30.038012Z",
     "start_time": "2019-04-01T00:23:27.699122Z"
    }
   },
   "outputs": [],
   "source": [
    "reg.fit(X, y)\n",
    "predictions = reg.predict(X)"
   ]
  },
  {
   "cell_type": "code",
   "execution_count": 40,
   "metadata": {
    "ExecuteTime": {
     "end_time": "2019-04-01T00:27:57.05002Z",
     "start_time": "2019-04-01T00:27:56.78199Z"
    },
    "_kg_hide-input": true,
    "scrolled": false
   },
   "outputs": [
    {
     "data": {
      "image/png": "[encoded data removed]",
      "text/plain": [
       "<Figure size 576x576 with 1 Axes>"
      ]
     },
     "metadata": {
      "needs_background": "light"
     },
     "output_type": "display_data"
    }
   ],
   "source": [
    "plt.figure(figsize=(8, 8))\n",
    "\n",
    "plt.plot((0, 4), (0, 4), color='gray')\n",
    "plt.plot(y, predictions, linewidth=0, marker='o',color = 'r', alpha=0.5)\n",
    "plt.grid()\n",
    "plt.xlim((-0.2, 4.2))\n",
    "plt.ylim((-0.2, 4.2))\n",
    "plt.xlabel(\"Actual values\")\n",
    "plt.ylabel(\"Predicted values\")\n",
    "plt.show()"
   ]
  },
  {
   "cell_type": "markdown",
   "metadata": {},
   "source": [
    "The closer to the gray line, the more accurate the predicted value is.  \n",
    "Then, at first glance I can understand the predocted values are not accurate.  \n",
    "In addition, it is also understood that the prediction is pulled to a small value near 0, and a small prediction is made for the larger value."
   ]
  },
  {
   "cell_type": "markdown",
   "metadata": {},
   "source": [
    "Let's try logarithmic transformation of the target variable."
   ]
  },
  {
   "cell_type": "code",
   "execution_count": 44,
   "metadata": {},
   "outputs": [
    {
     "name": "stdout",
     "output_type": "stream",
     "text": [
      "[-2.19367610e+09 -1.10294310e+12 -2.49738065e+09 -1.70992926e+09\n",
      " -6.92680281e+10]\n"
     ]
    }
   ],
   "source": [
    "X = prepare_df.drop(['id', 'easily_accomodated'], axis=1)\n",
    "y = np.log(prepare_df.easily_accomodated.values)\n",
    "reg = LinearRegression().fit(X, y)\n",
    "#scores = cross_val_score(reg, X, y, cv=5)\n",
    "reg.score(X,y)\n",
    "print(scores)"
   ]
  },
  {
   "cell_type": "code",
   "execution_count": 45,
   "metadata": {},
   "outputs": [],
   "source": [
    "reg.fit(X, y)\n",
    "predictions = reg.predict(X)"
   ]
  },
  {
   "cell_type": "code",
   "execution_count": 46,
   "metadata": {
    "_kg_hide-input": true
   },
   "outputs": [
    {
     "data": {
      "image/png": "[encoded data removed]",
      "text/plain": [
       "<Figure size 576x576 with 1 Axes>"
      ]
     },
     "metadata": {
      "needs_background": "light"
     },
     "output_type": "display_data"
    }
   ],
   "source": [
    "plt.figure(figsize=(8, 8))\n",
    "\n",
    "plt.plot((-10, 10), (-10, 10), color='gray')\n",
    "plt.plot(y, predictions, linewidth=0, marker='o', color='r', alpha=0.5)\n",
    "plt.grid()\n",
    "plt.xlim((-8.2, 2))\n",
    "plt.ylim((-8.2, 2))\n",
    "plt.xlabel(\"Actual values\")\n",
    "plt.ylabel(\"Predicted values\")\n",
    "plt.show()"
   ]
  },
  {
   "cell_type": "markdown",
   "metadata": {},
   "source": [
    "This notebook uses data from the Seattle area of Airbnb and has been analyzed to answer the following questions.\n",
    "Here we summarize the answers to those questions.\n",
    "\n",
    "* **How long is the period available for lending by rooms?**  \n",
    "The histogram of maximum nights shows that there are two groups.    \n",
    "One is a listing that can be used at spots such as the maximum number of nights within a week.  \n",
    "The other is a listing that supports a wide range of stay from the super long-term stay of the maximum number of stays for three years or more and the minimum number of nights for around two days to the spot use. \n",
    "\n",
    "\n",
    "* **Is there a busy season?**   \n",
    "**Yes**.  \n",
    "Apart from the increase in the number of Airbnb users, there was definitely a timely increase in the number of reviews at the same time each year.  \n",
    "It is thought that it is about one month around early September and overlaps with the summer vacation time. It is important that the number of properties that can be provided at this time exceeds demand.\n",
    "\n",
    "\n",
    "* **Are there any trends of popular rooms?**  \n",
    "I could not derive it from my analysis.  \n",
    "However, I learned that the score improves by logarithmic transformation. I will find time in the future and try to improve."
   ]
  },
  {
   "cell_type": "code",
   "execution_count": null,
   "metadata": {},
   "outputs": [],
   "source": []
  }
 ],
 "metadata": {
  "jupytext": {
   "text_representation": {
    "extension": ".py",
    "format_name": "light",
    "format_version": "1.3",
    "jupytext_version": "0.8.6"
   }
  },
  "kernelspec": {
   "display_name": "Python 3",
   "language": "python",
   "name": "python3"
  },
  "language_info": {
   "codemirror_mode": {
    "name": "ipython",
    "version": 3
   },
   "file_extension": ".py",
   "mimetype": "text/x-python",
   "name": "python",
   "nbconvert_exporter": "python",
   "pygments_lexer": "ipython3",
   "version": "3.7.6"
  },
  "toc": {
   "base_numbering": 1,
   "nav_menu": {},
   "number_sections": true,
   "sideBar": true,
   "skip_h1_title": false,
   "title_cell": "Table of Contents",
   "title_sidebar": "Contents",
   "toc_cell": false,
   "toc_position": {},
   "toc_section_display": true,
   "toc_window_display": false
  },
  "varInspector": {
   "cols": {
    "lenName": 16,
    "lenType": 16,
    "lenVar": 40
   },
   "kernels_config": {
    "python": {
     "delete_cmd_postfix": "",
     "delete_cmd_prefix": "del ",
     "library": "var_list.py",
     "varRefreshCmd": "print(var_dic_list())"
    },
    "r": {
     "delete_cmd_postfix": ") ",
     "delete_cmd_prefix": "rm(",
     "library": "var_list.r",
     "varRefreshCmd": "cat(var_dic_list()) "
    }
   },
   "types_to_exclude": [
    "module",
    "function",
    "builtin_function_or_method",
    "instance",
    "_Feature"
   ],
   "window_display": false
  }
 },
 "nbformat": 4,
 "nbformat_minor": 1
}
